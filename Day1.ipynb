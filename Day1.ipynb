{
 "cells": [
  {
   "cell_type": "code",
   "execution_count": 1,
   "metadata": {},
   "outputs": [],
   "source": [
    "import cv2\n",
    "img_path ='C://Users//elsaivy//Desktop//lena.png'"
   ]
  },
  {
   "cell_type": "code",
   "execution_count": 2,
   "metadata": {},
   "outputs": [],
   "source": [
    "img = cv2.imread (img_path,cv2.IMREAD_COLOR)"
   ]
  },
  {
   "cell_type": "code",
   "execution_count": 3,
   "metadata": {},
   "outputs": [
    {
     "data": {
      "text/plain": [
       "array([[[125, 137, 226],\n",
       "        [125, 137, 226],\n",
       "        [133, 137, 223],\n",
       "        ...,\n",
       "        [122, 148, 230],\n",
       "        [110, 130, 221],\n",
       "        [ 90,  99, 200]],\n",
       "\n",
       "       [[125, 137, 226],\n",
       "        [125, 137, 226],\n",
       "        [133, 137, 223],\n",
       "        ...,\n",
       "        [122, 148, 230],\n",
       "        [110, 130, 221],\n",
       "        [ 90,  99, 200]],\n",
       "\n",
       "       [[125, 137, 226],\n",
       "        [125, 137, 226],\n",
       "        [133, 137, 223],\n",
       "        ...,\n",
       "        [122, 148, 230],\n",
       "        [110, 130, 221],\n",
       "        [ 90,  99, 200]],\n",
       "\n",
       "       ...,\n",
       "\n",
       "       [[ 60,  18,  84],\n",
       "        [ 60,  18,  84],\n",
       "        [ 58,  27,  92],\n",
       "        ...,\n",
       "        [ 84,  73, 173],\n",
       "        [ 76,  68, 172],\n",
       "        [ 79,  62, 177]],\n",
       "\n",
       "       [[ 57,  22,  82],\n",
       "        [ 57,  22,  82],\n",
       "        [ 62,  32,  96],\n",
       "        ...,\n",
       "        [ 79,  70, 179],\n",
       "        [ 81,  71, 181],\n",
       "        [ 81,  74, 185]],\n",
       "\n",
       "       [[ 57,  22,  82],\n",
       "        [ 57,  22,  82],\n",
       "        [ 62,  32,  96],\n",
       "        ...,\n",
       "        [ 79,  70, 179],\n",
       "        [ 81,  71, 181],\n",
       "        [ 81,  74, 185]]], dtype=uint8)"
      ]
     },
     "execution_count": 3,
     "metadata": {},
     "output_type": "execute_result"
    }
   ],
   "source": [
    "img"
   ]
  },
  {
   "cell_type": "code",
   "execution_count": 4,
   "metadata": {},
   "outputs": [],
   "source": [
    "img_gray = cv2.imread(img_path,cv2.IMREAD_GRAYSCALE)"
   ]
  },
  {
   "cell_type": "code",
   "execution_count": 5,
   "metadata": {},
   "outputs": [
    {
     "data": {
      "text/plain": [
       "array([[169, 169, 168, ..., 175, 162, 138],\n",
       "       [169, 169, 168, ..., 175, 162, 138],\n",
       "       [169, 169, 168, ..., 175, 162, 138],\n",
       "       ...,\n",
       "       [ 53,  53,  59, ..., 115, 112, 114],\n",
       "       [ 53,  53,  64, ..., 117, 118, 122],\n",
       "       [ 53,  53,  64, ..., 117, 118, 122]], dtype=uint8)"
      ]
     },
     "execution_count": 5,
     "metadata": {},
     "output_type": "execute_result"
    }
   ],
   "source": [
    "img_gray"
   ]
  },
  {
   "cell_type": "code",
   "execution_count": null,
   "metadata": {},
   "outputs": [],
   "source": [
    "while True:\n",
    "    cv2.imshow('bgr',img)\n",
    "    cv2.imshow('gray',img_gray)\n",
    "    k = cv2.waitKey(0)\n",
    "    if k == 27:\n",
    "        cv2.destroyAllWindows()\n",
    "        break"
   ]
  },
  {
   "cell_type": "code",
   "execution_count": null,
   "metadata": {},
   "outputs": [],
   "source": []
  }
 ],
 "metadata": {
  "kernelspec": {
   "display_name": "Python 3",
   "language": "python",
   "name": "python3"
  },
  "language_info": {
   "codemirror_mode": {
    "name": "ipython",
    "version": 3
   },
   "file_extension": ".py",
   "mimetype": "text/x-python",
   "name": "python",
   "nbconvert_exporter": "python",
   "pygments_lexer": "ipython3",
   "version": "3.7.4"
  }
 },
 "nbformat": 4,
 "nbformat_minor": 2
}
